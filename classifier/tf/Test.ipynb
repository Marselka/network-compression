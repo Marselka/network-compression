{
 "cells": [
  {
   "cell_type": "code",
   "execution_count": null,
   "metadata": {
    "collapsed": true
   },
   "outputs": [],
   "source": [
    "import numpy as np\n",
    "import tensorflow as tf\n",
    "from IPython.display import clear_output, display\n",
    "from tensorflow.python.saved_model import tag_constants\n",
    "import sys\n",
    "sys.path.insert(0, '..')\n",
    "from celeba_reader import CelebaSequence"
   ]
  },
  {
   "cell_type": "markdown",
   "metadata": {},
   "source": [
    "#### Prepare testing dataset"
   ]
  },
  {
   "cell_type": "code",
   "execution_count": null,
   "metadata": {},
   "outputs": [],
   "source": [
    "paths = {\n",
    "    'img_path': '/path/to/img_align_celeba',\n",
    "    'attrs_path': 'list_attr_celeba.csv',\n",
    "    'partition_path': 'list_eval_partition.csv'\n",
    "}\n",
    "batch = 100\n",
    "test_data = CelebaSequence(partition=2, batch=batch, **paths)"
   ]
  },
  {
   "cell_type": "markdown",
   "metadata": {},
   "source": [
    "#### Measure test accuracy"
   ]
  },
  {
   "cell_type": "code",
   "execution_count": null,
   "metadata": {},
   "outputs": [],
   "source": [
    "def show(s):\n",
    "    clear_output()\n",
    "    display(s)\n",
    "\n",
    "graph = tf.Graph()\n",
    "with graph.as_default():\n",
    "    with tf.Session() as sess:\n",
    "        # load model\n",
    "        tf.saved_model.loader.load(sess, [tag_constants.SERVING], './saved_model')\n",
    "        \n",
    "        # get input placeholders and output node\n",
    "        images_batch = graph.get_tensor_by_name('Placeholder:0')\n",
    "        labels = graph.get_tensor_by_name('Placeholder_1:0')\n",
    "        classifier = graph.get_tensor_by_name('Reshape_1:0')\n",
    "\n",
    "        # make predictions for test data and measure accuracy\n",
    "        correct, total = 0., 0.\n",
    "        for x, y in test_data:\n",
    "            predicted = sess.run(classifier, feed_dict={images_batch: x, labels: y})\n",
    "            predicted[predicted >= 0.5] = 1\n",
    "            predicted[predicted < 0.5 ] = 0\n",
    "            correct = correct + np.sum(np.equal(y, predicted))\n",
    "            total = total + len(y)\n",
    "            show(f\"{correct}/{total}\")\n",
    "        show(f\"accuracy={correct/total:.2f}\")"
   ]
  },
  {
   "cell_type": "markdown",
   "metadata": {},
   "source": [
    "If you want to visualize loaded graph, add:\n",
    "```python\n",
    "tf.summary.FileWriter( './logs/1/train', graph)\n",
    "```\n",
    "Then run tensorboard in terminal, providing the directory with the saved graph:\n",
    "```\n",
    "$ tensorboard --logdir ./logs/1\n",
    "```"
   ]
  }
 ],
 "metadata": {
  "kernelspec": {
   "display_name": "Python 3",
   "language": "python",
   "name": "python3"
  },
  "language_info": {
   "codemirror_mode": {
    "name": "ipython",
    "version": 3
   },
   "file_extension": ".py",
   "mimetype": "text/x-python",
   "name": "python",
   "nbconvert_exporter": "python",
   "pygments_lexer": "ipython3",
   "version": "3.6.5"
  }
 },
 "nbformat": 4,
 "nbformat_minor": 2
}
