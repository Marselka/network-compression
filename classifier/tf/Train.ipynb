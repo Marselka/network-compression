{
 "cells": [
  {
   "cell_type": "code",
   "execution_count": null,
   "metadata": {},
   "outputs": [],
   "source": [
    "import tensorflow as tf\n",
    "from IPython.display import clear_output, display\n",
    "import sys\n",
    "sys.path.insert(0, '..')\n",
    "from celeba_reader import CelebaSequence\n",
    "import models"
   ]
  },
  {
   "cell_type": "markdown",
   "metadata": {},
   "source": [
    "#### Prepare training dataset"
   ]
  },
  {
   "cell_type": "code",
   "execution_count": null,
   "metadata": {},
   "outputs": [],
   "source": [
    "paths = {\n",
    "    'img_path': '/home/maxim/Desktop/celeba/img_align_celeba',\n",
    "    'attrs_path': '../list_attr_celeba.csv',\n",
    "    'partition_path': '../list_eval_partition.csv'\n",
    "}\n",
    "train_data = CelebaSequence(partition=0, batch=100, **paths)"
   ]
  },
  {
   "cell_type": "markdown",
   "metadata": {},
   "source": [
    "#### Start training session, build a model and training operations"
   ]
  },
  {
   "cell_type": "code",
   "execution_count": null,
   "metadata": {},
   "outputs": [],
   "source": [
    "sess = tf.InteractiveSession()\n",
    "\n",
    "images_batch = tf.placeholder(tf.float32, [None, 218, 178, 3])\n",
    "labels = tf.placeholder(tf.int32, [None])\n",
    "classifier = models.initial_model(images_batch)\n",
    "\n",
    "loss = tf.losses.log_loss(labels=labels, predictions=classifier)\n",
    "optimizer = tf.train.AdamOptimizer(learning_rate=0.001)\n",
    "train_op = optimizer.minimize(loss=loss, global_step=tf.train.get_global_step())\n",
    "\n",
    "saver = tf.train.Saver()\n",
    "sess.run(tf.global_variables_initializer())"
   ]
  },
  {
   "cell_type": "markdown",
   "metadata": {},
   "source": [
    "To restore a model from a checkpoint, type:\n",
    "```python\n",
    "saver.restore(sess, './checkpoints/model.ckpt')\n",
    "```"
   ]
  },
  {
   "cell_type": "markdown",
   "metadata": {},
   "source": [
    "#### Train the model"
   ]
  },
  {
   "cell_type": "code",
   "execution_count": null,
   "metadata": {},
   "outputs": [],
   "source": [
    "def train(checkpoint_period, log_period):\n",
    "    i = 0\n",
    "    for x, y in train_data:\n",
    "        sess.run(train_op, feed_dict={images_batch: x, labels: y})\n",
    "        if i % log_period == 0:\n",
    "            clear_output()\n",
    "            display(i)\n",
    "        if i % checkpoint_period == 0:\n",
    "            save_path = saver.save(sess, 'checkpoints/model.ckpt')\n",
    "            print(\"Model saved in path: %s\" % save_path)\n",
    "        if i == 1630:\n",
    "            break\n",
    "        i = i + 1"
   ]
  },
  {
   "cell_type": "code",
   "execution_count": null,
   "metadata": {},
   "outputs": [],
   "source": [
    "train(checkpoint_period=100, log_period=10)"
   ]
  },
  {
   "cell_type": "markdown",
   "metadata": {},
   "source": [
    "#### Save trained model"
   ]
  },
  {
   "cell_type": "code",
   "execution_count": null,
   "metadata": {},
   "outputs": [],
   "source": [
    "inputs = {\n",
    "    \"images_batch\": images_batch,\n",
    "    \"labels\": labels\n",
    "}\n",
    "outputs = {\"predictions\": classifier}\n",
    "tf.saved_model.simple_save(sess, './cut', inputs, outputs)"
   ]
  }
 ],
 "metadata": {
  "kernelspec": {
   "display_name": "Python 3",
   "language": "python",
   "name": "python3"
  },
  "language_info": {
   "codemirror_mode": {
    "name": "ipython",
    "version": 3
   },
   "file_extension": ".py",
   "mimetype": "text/x-python",
   "name": "python",
   "nbconvert_exporter": "python",
   "pygments_lexer": "ipython3",
   "version": "3.6.5"
  }
 },
 "nbformat": 4,
 "nbformat_minor": 2
}
