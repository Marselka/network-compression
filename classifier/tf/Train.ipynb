{
 "cells": [
  {
   "cell_type": "code",
   "execution_count": null,
   "metadata": {},
   "outputs": [],
   "source": [
    "import tensorflow as tf\n",
    "import numpy as np\n",
    "import pandas as pd\n",
    "from IPython.display import clear_output, display\n",
    "import sys\n",
    "sys.path.insert(0,'..')\n",
    "from celeba_reader import CelebaSequence"
   ]
  },
  {
   "cell_type": "code",
   "execution_count": null,
   "metadata": {},
   "outputs": [],
   "source": [
    "def face_classifier(images_batch):\n",
    "    conv1 = tf.layers.conv2d(\n",
    "        inputs=images_batch,\n",
    "        filters=8,\n",
    "        kernel_size=5,\n",
    "        padding=\"same\",\n",
    "        activation=tf.nn.relu)\n",
    "    pool1 = tf.layers.max_pooling2d(inputs=conv1, pool_size=4, strides=4)\n",
    "\n",
    "    conv2 = tf.layers.conv2d(\n",
    "        inputs=pool1,\n",
    "        filters=16,\n",
    "        kernel_size=5,\n",
    "        padding=\"same\",\n",
    "        activation=tf.nn.relu)\n",
    "    pool2 = tf.layers.max_pooling2d(inputs=conv2, pool_size=4, strides=4)\n",
    "\n",
    "    pool2_flat = tf.reshape(pool2, [-1, 2288])\n",
    "    \n",
    "    dense1 = tf.layers.dense(inputs=pool2_flat, units=256, activation=tf.nn.relu)    \n",
    "    dense2 = tf.layers.dense(inputs=dense1, units=256, activation=tf.nn.relu)\n",
    "    dense3 = tf.layers.dense(inputs=dense2, units=32, activation=tf.nn.relu)\n",
    "    predictions = tf.layers.dense(inputs=dense3, units=1, activation=tf.nn.sigmoid)\n",
    "    \n",
    "    predictions = tf.reshape(predictions, [-1])\n",
    "    return predictions"
   ]
  },
  {
   "cell_type": "code",
   "execution_count": null,
   "metadata": {},
   "outputs": [],
   "source": [
    "sess = tf.InteractiveSession()\n",
    "\n",
    "images_batch = tf.placeholder(tf.float32, [None, 218, 178, 3])\n",
    "labels = tf.placeholder(tf.int32, [None])\n",
    "classifier = face_classifier(images_batch)\n",
    "\n",
    "loss = tf.losses.log_loss(labels=labels, predictions=classifier)\n",
    "optimizer = tf.train.AdamOptimizer(learning_rate=0.001)\n",
    "train_op = optimizer.minimize(loss=loss, global_step=tf.train.get_global_step())\n",
    "\n",
    "saver = tf.train.Saver()\n",
    "sess.run(tf.global_variables_initializer())"
   ]
  },
  {
   "cell_type": "code",
   "execution_count": null,
   "metadata": {},
   "outputs": [],
   "source": [
    "# saver.restore(sess, './checkpoints/model.ckpt')"
   ]
  },
  {
   "cell_type": "code",
   "execution_count": null,
   "metadata": {},
   "outputs": [],
   "source": [
    "paths = {\n",
    "    'img_path': '/path/to/img_align_celeba',\n",
    "    'attrs_path': '../list_attr_celeba.csv',\n",
    "    'partition_path': '../list_eval_partition.csv'\n",
    "}\n",
    "batch = 100\n",
    "train_data = CelebaSequence(partition=0, batch=batch, **paths)"
   ]
  },
  {
   "cell_type": "code",
   "execution_count": null,
   "metadata": {},
   "outputs": [],
   "source": [
    "def train():\n",
    "    i = 0\n",
    "    for x, y in train_data:\n",
    "        sess.run(train_op, feed_dict={images_batch: x, labels: y})\n",
    "        if i % 10 == 0:\n",
    "            clear_output()\n",
    "            display(i)\n",
    "        if i % 100 == 0:\n",
    "            save_path = saver.save(sess, 'checkpoints/model.ckpt')\n",
    "            print(\"Model saved in path: %s\" % save_path)\n",
    "        if i == 1000:\n",
    "            break\n",
    "        i = i + 1"
   ]
  },
  {
   "cell_type": "code",
   "execution_count": null,
   "metadata": {},
   "outputs": [],
   "source": [
    "train()"
   ]
  },
  {
   "cell_type": "code",
   "execution_count": null,
   "metadata": {},
   "outputs": [],
   "source": [
    "inputs = {\n",
    "    \"images_batch\": images_batch,\n",
    "    \"labels\": labels\n",
    "}\n",
    "outputs = {\"predictions\": classifier}\n",
    "tf.saved_model.simple_save(sess, './tmp', inputs, outputs)"
   ]
  }
 ],
 "metadata": {
  "kernelspec": {
   "display_name": "Python 3",
   "language": "python",
   "name": "python3"
  },
  "language_info": {
   "codemirror_mode": {
    "name": "ipython",
    "version": 3
   },
   "file_extension": ".py",
   "mimetype": "text/x-python",
   "name": "python",
   "nbconvert_exporter": "python",
   "pygments_lexer": "ipython3",
   "version": "3.6.5"
  }
 },
 "nbformat": 4,
 "nbformat_minor": 2
}
