{
 "cells": [
  {
   "cell_type": "code",
   "execution_count": null,
   "metadata": {},
   "outputs": [],
   "source": [
    "import tensorflow as tf\n",
    "from tensorflow.python.saved_model import tag_constants\n",
    "import numpy as np\n",
    "from IPython.display import clear_output, display\n",
    "import sys\n",
    "sys.path.insert(0,'..')\n",
    "from celeba_reader import CelebaSequence"
   ]
  },
  {
   "cell_type": "code",
   "execution_count": null,
   "metadata": {},
   "outputs": [],
   "source": [
    "paths = {\n",
    "    'img_path': '/path/to/img_align_celeba',\n",
    "    'attrs_path': '../list_attr_celeba.csv',\n",
    "    'partition_path': '../list_eval_partition.csv'\n",
    "}\n",
    "batch = 100\n",
    "test_data = CelebaSequence(partition=2, batch=batch, **paths)"
   ]
  },
  {
   "cell_type": "code",
   "execution_count": null,
   "metadata": {},
   "outputs": [],
   "source": [
    "graph = tf.Graph()\n",
    "with graph.as_default():\n",
    "    with tf.Session() as sess:\n",
    "        tf.saved_model.loader.load(sess, [tag_constants.SERVING], './tmp')\n",
    "        tf.summary.FileWriter( './logs/1/train', graph) # $ tensorboard --logdir ./logs/1\n",
    "        images_batch = graph.get_tensor_by_name('Placeholder:0')\n",
    "        labels = graph.get_tensor_by_name('Placeholder_1:0')\n",
    "        classifier = graph.get_tensor_by_name('Reshape_1:0')\n",
    "        \n",
    "        correct = 0.\n",
    "        total = 0.\n",
    "        i = 0\n",
    "        for x, y in test_data:\n",
    "            total = total + len(y)\n",
    "            predicted = sess.run(classifier, feed_dict={images_batch: x, labels: y})\n",
    "            predicted[predicted >= 0.5] = 1\n",
    "            predicted[predicted < 0.5 ] = 0\n",
    "            correct = correct + np.sum(np.equal(y, predicted))\n",
    "            clear_output()\n",
    "            display(f\"{correct}/{total}\")\n",
    "            if i == 40:\n",
    "                break\n",
    "            i = i + 1\n",
    "        clear_output()\n",
    "        display(f\"accuracy={correct/total:.2f}\")"
   ]
  }
 ],
 "metadata": {
  "kernelspec": {
   "display_name": "Python 3",
   "language": "python",
   "name": "python3"
  },
  "language_info": {
   "codemirror_mode": {
    "name": "ipython",
    "version": 3
   },
   "file_extension": ".py",
   "mimetype": "text/x-python",
   "name": "python",
   "nbconvert_exporter": "python",
   "pygments_lexer": "ipython3",
   "version": "3.6.5"
  }
 },
 "nbformat": 4,
 "nbformat_minor": 2
}
