{
 "cells": [
  {
   "cell_type": "code",
   "execution_count": null,
   "metadata": {},
   "outputs": [],
   "source": [
    "import tensorflow as tf\n",
    "from tensorflow.python.saved_model import tag_constants\n",
    "from compression import face_classifier_reduced"
   ]
  },
  {
   "cell_type": "code",
   "execution_count": null,
   "metadata": {},
   "outputs": [],
   "source": [
    "with tf.Session() as sess:\n",
    "    # load model\n",
    "    tf.saved_model.loader.load(sess, [tag_constants.SERVING], './saved_model')\n",
    "    \n",
    "    # collect layers\n",
    "    layers = {item.name: item.eval() for item in tf.get_collection(key=tf.GraphKeys.TRAINABLE_VARIABLES)}\n",
    "\n",
    "    # rebuild model with SVD decomposition of dense layers\n",
    "    images_batch = tf.placeholder(tf.float32, [None, 218, 178, 3])\n",
    "    labels = tf.placeholder(tf.int32, [None])\n",
    "    classifier = face_classifier_reduced(sess, images_batch, layers, 1)\n",
    "\n",
    "    # save compressed model\n",
    "    inputs = {\n",
    "        \"images_batch\": images_batch,\n",
    "        \"labels\": labels\n",
    "    }\n",
    "    outputs = {\"predictions\": classifier}\n",
    "    tf.saved_model.simple_save(sess, './compressed', inputs, outputs)"
   ]
  }
 ],
 "metadata": {
  "kernelspec": {
   "display_name": "Python 3",
   "language": "python",
   "name": "python3"
  },
  "language_info": {
   "codemirror_mode": {
    "name": "ipython",
    "version": 3
   },
   "file_extension": ".py",
   "mimetype": "text/x-python",
   "name": "python",
   "nbconvert_exporter": "python",
   "pygments_lexer": "ipython3",
   "version": "3.6.5"
  }
 },
 "nbformat": 4,
 "nbformat_minor": 2
}
